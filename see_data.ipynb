{
 "cells": [
  {
   "cell_type": "code",
   "execution_count": null,
   "metadata": {},
   "outputs": [],
   "source": [
    "import pandas as pd\n",
    "\n",
    "column_names_bid = [\n",
    "    \"BidID\", \"Timestamp\", \"VisitorID\", \"User-Agent\", \"IP\", \"Region\", \"City\",\n",
    "    \"Adexchange\", \"Domain\", \"URL\", \"AnonymousURLID\", \"AdslotID\", \"Adslotwidth\",\n",
    "    \"Adslotheight\", \"Adslotvisibility\", \"Adslotformat\", \"Adslotfloorprice\",\n",
    "    \"CreativeID\", \"Biddingprice\", \"AdvertiserID\", \"User_tag\"\n",
    "]\n",
    "\n",
    "column_names = [\n",
    "    \"BidID\", \"Timestamp\", \"Logtype\", \"VisitorID\", \"User-Agent\", \"IP\", \"Region\", \"City\",\n",
    "    \"Adexchange\", \"Domain\", \"URL\", \"AnonymousURLID\", \"AdslotID\", \"Adslotwidth\",\n",
    "    \"Adslotheight\", \"Adslotvisibility\", \"Adslotformat\", \"Adslotfloorprice\",\n",
    "    \"CreativeID\", \"Biddingprice\", \"Payingprice\", \"KeypageURL\", \"AdvertiserID\", \"User_tag\"\n",
    "]\n",
    "\n",
    "\n",
    "bid = pd.read_csv(\"dataset/bid.06.txt\", delimiter='\\t', names=column_names_bid,low_memory=True)\n",
    "clk = pd.read_csv(\"dataset/clk.06.txt\", delimiter='\\t',names=column_names ,low_memory=True)\n",
    "conv = pd.read_csv(\"dataset/conv.06.txt\", delimiter='\\t',names=column_names, low_memory=True)\n",
    "imp = pd.read_csv(\"dataset/imp.06.txt\", delimiter='\\t',names=column_names, low_memory=True)"
   ]
  },
  {
   "cell_type": "code",
   "execution_count": 2,
   "metadata": {},
   "outputs": [
    {
     "name": "stdout",
     "output_type": "stream",
     "text": [
      "Bid txt shape         : (9586949, 21)\n",
      "Click txt shape       : (1289, 24)\n",
      "Conversion txt shape  : (43, 24)\n",
      "Imporession txt shape : (1821350, 24)\n"
     ]
    }
   ],
   "source": [
    "print(f\"Bid txt shape         : {bid.shape}\")\n",
    "print(f\"Click txt shape       : {clk.shape}\")\n",
    "print(f\"Conversion txt shape  : {conv.shape}\")\n",
    "print(f\"Imporession txt shape : {imp.shape}\")"
   ]
  },
  {
   "cell_type": "code",
   "execution_count": 3,
   "metadata": {},
   "outputs": [
    {
     "name": "stdout",
     "output_type": "stream",
     "text": [
      "bid User_tag\n",
      "clk AnonymousURLID\n",
      "conv AnonymousURLID\n",
      "imp AnonymousURLID\n"
     ]
    }
   ],
   "source": [
    "all_dfs = [bid,clk,conv,imp]\n",
    "strings = [\"bid\",\"clk\",\"conv\",\"imp\"]\n",
    "for i,df in enumerate(all_dfs):\n",
    "    for column in df.columns:\n",
    "        if df[column].isnull().sum() == df[column].shape[0]:\n",
    "            print(strings[i] , column)"
   ]
  },
  {
   "cell_type": "code",
   "execution_count": 13,
   "metadata": {},
   "outputs": [
    {
     "data": {
      "text/plain": [
       "(1,)"
      ]
     },
     "execution_count": 13,
     "metadata": {},
     "output_type": "execute_result"
    }
   ],
   "source": [
    "# bid['AdvertiserID'].unique().shape\n",
    "conv['Logtype'].unique().shape\n",
    "# imp.sample(n=5)\n",
    "# bid.describe()\n"
   ]
  },
  {
   "cell_type": "code",
   "execution_count": null,
   "metadata": {},
   "outputs": [],
   "source": []
  }
 ],
 "metadata": {
  "kernelspec": {
   "display_name": "adobe_devcraft",
   "language": "python",
   "name": "python3"
  },
  "language_info": {
   "codemirror_mode": {
    "name": "ipython",
    "version": 3
   },
   "file_extension": ".py",
   "mimetype": "text/x-python",
   "name": "python",
   "nbconvert_exporter": "python",
   "pygments_lexer": "ipython3",
   "version": "3.13.1"
  }
 },
 "nbformat": 4,
 "nbformat_minor": 2
}
