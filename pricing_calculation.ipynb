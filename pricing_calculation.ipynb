{
 "cells": [
  {
   "cell_type": "code",
   "execution_count": 1,
   "metadata": {},
   "outputs": [
    {
     "name": "stdout",
     "output_type": "stream",
     "text": [
      "Libraries imported\n"
     ]
    }
   ],
   "source": [
    "import pandas as pd\n",
    "import pandas as pd\n",
    "from sklearn.preprocessing import LabelEncoder\n",
    "from sklearn.utils import resample\n",
    "import xgboost as xgb\n",
    "from sklearn.model_selection import train_test_split\n",
    "from sklearn.metrics import roc_auc_score\n",
    "from sklearn.metrics import confusion_matrix\n",
    "from imblearn.over_sampling import SMOTE\n",
    "import joblib\n",
    "pd.set_option('display.max_columns', None)\n",
    "\n",
    "print(\"Libraries imported\")\n",
    "\n",
    "with open('Adobe Devcraft PS/user.profile.tags.txt') as f:\n",
    "    tag_dict = {}\n",
    "    for idx, line in enumerate(f.readlines()):\n",
    "        tag_dict[line[:5]] = line[6:-1]\n",
    "\n",
    "column_names = [\n",
    "    \"BidID\", \"Timestamp\", \"Logtype\", \"VisitorID\", \"User-Agent\", \"IP\", \"Region\", \"City\",\n",
    "    \"Adexchange\", \"Domain\", \"URL\", \"AnonymousURLID\", \"AdslotID\", \"Adslotwidth\",\n",
    "    \"Adslotheight\", \"Adslotvisibility\", \"Adslotformat\", \"Adslotfloorprice\",\n",
    "    \"CreativeID\", \"Biddingprice\", \"Payingprice\", \"KeypageURL\", \"AdvertiserID\", \"User_tag\"\n",
    "]"
   ]
  },
  {
   "cell_type": "code",
   "execution_count": 2,
   "metadata": {},
   "outputs": [
    {
     "name": "stdout",
     "output_type": "stream",
     "text": [
      "Imporession txt shape : (12237087, 24)\n"
     ]
    }
   ],
   "source": [
    "imp = pd.read_csv(\"dataset_combined/imp.csv\", low_memory=False)\n",
    "print(f\"Imporession txt shape : {imp.shape}\")"
   ]
  },
  {
   "cell_type": "code",
   "execution_count": 3,
   "metadata": {},
   "outputs": [],
   "source": [
    "imp['Timestamp'] = (imp['Timestamp']//1000000)%1000"
   ]
  },
  {
   "cell_type": "code",
   "execution_count": 5,
   "metadata": {},
   "outputs": [
    {
     "name": "stdout",
     "output_type": "stream",
     "text": [
      "Timestamp -0.036426937528005576\n",
      "Adslotwidth -0.12513953622796092\n",
      "Adslotheight 0.08271497268468539\n"
     ]
    }
   ],
   "source": [
    "numerical_cols = imp.select_dtypes(include=['number']).columns\n",
    "for col in ['Timestamp', 'Adslotwidth', 'Adslotheight']:\n",
    "  print(col, imp['Payingprice'].corr(imp[col]))"
   ]
  },
  {
   "cell_type": "code",
   "execution_count": 7,
   "metadata": {},
   "outputs": [
    {
     "name": "stdout",
     "output_type": "stream",
     "text": [
      "Adexchange\n",
      "1    95.698898\n",
      "2    76.994395\n",
      "3    64.259066\n",
      "Name: Payingprice, dtype: float64\n",
      "Adslotvisibility\n",
      "0      75.726989\n",
      "1      99.723296\n",
      "2      73.108124\n",
      "255    87.272547\n",
      "Name: Payingprice, dtype: float64\n",
      "Adslotformat\n",
      "0     70.296212\n",
      "1     94.367957\n",
      "5    156.994856\n",
      "Name: Payingprice, dtype: float64\n"
     ]
    }
   ],
   "source": [
    "for col in ['Adexchange', 'Adslotvisibility', 'Adslotformat']:\n",
    "    temp_df = imp.groupby(col)\n",
    "    print(temp_df['Payingprice'].mean())\n",
    "# print(imp.groupby('Adexchange')['Payingprice'].mean())\n",
    "# # print(imp.groupby('Region')['Payingprice'].mean()) no meaning\n",
    "# # print(imp.groupby('City')['Payingprice'].mean()) no meaning\n",
    "# print(imp.groupby('Adslotvisibility')['Payingprice'].mean())\n",
    "# print(imp.groupby('Adslotformat')['Payingprice'].mean())\n"
   ]
  },
  {
   "cell_type": "code",
   "execution_count": 3,
   "metadata": {},
   "outputs": [],
   "source": [
    "# print(str(imp['Timestamp'].max())[4:], str(imp['Timestamp'].min())[4:])\n",
    "# imp['Timestamp'] = imp['Timestamp']"
   ]
  },
  {
   "cell_type": "code",
   "execution_count": 8,
   "metadata": {},
   "outputs": [
    {
     "name": "stdout",
     "output_type": "stream",
     "text": [
      "OHE encoding user tags....\n"
     ]
    }
   ],
   "source": [
    "imp = imp.drop(['Logtype', 'VisitorID', 'User-Agent', 'AdslotID', 'IP', 'Domain', 'URL', 'AnonymousURLID', 'Adslotfloorprice', 'Biddingprice', 'KeypageURL', 'Timestamp'], axis=1)\n",
    "print(\"OHE encoding user tags....\")\n",
    "imp['User_tag'] = imp['User_tag'].str.split(',')\n",
    "imp = imp.explode('User_tag')\n",
    "imp = pd.get_dummies(imp, columns=['User_tag'])\n",
    "imp = imp.groupby('BidID', as_index=False).max()\n",
    "column_names = list(imp.columns)\n",
    "for i, col in enumerate(column_names):\n",
    "    if(not col[:4] == 'User'):\n",
    "        continue\n",
    "    column_names[i] = tag_dict[col[-5:]]\n",
    "imp.columns = column_names\n",
    "for key in tag_dict:\n",
    "    if(tag_dict[key] not in column_names):\n",
    "        imp[tag_dict[key]] = False"
   ]
  },
  {
   "cell_type": "code",
   "execution_count": 9,
   "metadata": {},
   "outputs": [
    {
     "name": "stdout",
     "output_type": "stream",
     "text": [
      "Long-term interest/news\n",
      "False    82.282857\n",
      "True     75.719674\n",
      "Name: Payingprice, dtype: float64\n",
      "Long-term interest/eduation\n",
      "False    77.599538\n",
      "True     80.325586\n",
      "Name: Payingprice, dtype: float64\n",
      "Long-term interest/automobile\n",
      "False    78.537932\n",
      "True     77.072253\n",
      "Name: Payingprice, dtype: float64\n",
      "Long-term interest/real estate\n",
      "False    78.131423\n",
      "True     80.014302\n",
      "Name: Payingprice, dtype: float64\n",
      "Long-term interest/IT\n",
      "False    78.590153\n",
      "True     76.292012\n",
      "Name: Payingprice, dtype: float64\n",
      "Long-term interest/electronic game\n",
      "False    78.927685\n",
      "True     75.333591\n",
      "Name: Payingprice, dtype: float64\n",
      "Long-term interest/fashion\n",
      "False    79.010009\n",
      "True     75.373778\n",
      "Name: Payingprice, dtype: float64\n",
      "Long-term interest/entertainment\n",
      "False    80.92541\n",
      "True     76.76983\n",
      "Name: Payingprice, dtype: float64\n",
      "Long-term interest/luxury\n",
      "False    78.274599\n",
      "True     76.898752\n",
      "Name: Payingprice, dtype: float64\n",
      "Long-term interest/home and lifestyle\n",
      "False    78.197099\n",
      "True     80.989020\n",
      "Name: Payingprice, dtype: float64\n",
      "Long-term interest/health\n",
      "False    78.171015\n",
      "True     78.546787\n",
      "Name: Payingprice, dtype: float64\n",
      "Long-term interest/food\n",
      "False    77.691875\n",
      "True     84.203883\n",
      "Name: Payingprice, dtype: float64\n",
      "Long-term interest/divine\n",
      "False    78.910357\n",
      "True     71.963400\n",
      "Name: Payingprice, dtype: float64\n",
      "Long-term interest/motherhood&parenting\n",
      "False    78.192560\n",
      "True     79.787802\n",
      "Name: Payingprice, dtype: float64\n",
      "Long-term interest/sports\n",
      "False    79.494047\n",
      "True     74.517568\n",
      "Name: Payingprice, dtype: float64\n",
      "Long-term interest/travel&outdoors\n",
      "False    78.102860\n",
      "True     80.957061\n",
      "Name: Payingprice, dtype: float64\n",
      "Long-term interest/social\n",
      "False    78.183947\n",
      "True     84.784167\n",
      "Name: Payingprice, dtype: float64\n",
      "In-market/3c product\n",
      "False    78.223359\n",
      "True     79.289740\n",
      "Name: Payingprice, dtype: float64\n",
      "In-market/appliances\n",
      "False    78.253571\n",
      "True     75.723863\n",
      "Name: Payingprice, dtype: float64\n",
      "In-market/clothing、shoes&bags\n",
      "False    78.238184\n",
      "True     82.962315\n",
      "Name: Payingprice, dtype: float64\n",
      "In-market/Beauty& Personal Care\n",
      "False    78.231539\n",
      "True     83.297747\n",
      "Name: Payingprice, dtype: float64\n",
      "In-market/household&home improvement\n",
      "False    78.233810\n",
      "True     84.339819\n",
      "Name: Payingprice, dtype: float64\n",
      "In-market/infant&mom products\n",
      "False    78.243153\n",
      "True     85.649888\n",
      "Name: Payingprice, dtype: float64\n",
      "In-market/sports item\n",
      "False    78.248279\n",
      "True     76.888256\n",
      "Name: Payingprice, dtype: float64\n",
      "In-market/outdoor\n",
      "False    78.242909\n",
      "True     84.521938\n",
      "Name: Payingprice, dtype: float64\n",
      "In-market/health care products\n",
      "False    78.239093\n",
      "True     93.402973\n",
      "Name: Payingprice, dtype: float64\n",
      "In-market/luxury\n",
      "False    78.228887\n",
      "True     84.597524\n",
      "Name: Payingprice, dtype: float64\n",
      "In-market/real estate\n",
      "False    78.235877\n",
      "True     78.819700\n",
      "Name: Payingprice, dtype: float64\n",
      "In-market/automobile\n",
      "False    77.993785\n",
      "True     81.042907\n",
      "Name: Payingprice, dtype: float64\n",
      "In-market/finance\n",
      "False    79.076584\n",
      "True     74.653083\n",
      "Name: Payingprice, dtype: float64\n",
      "In-market/travel\n",
      "False    78.173216\n",
      "True     84.209921\n",
      "Name: Payingprice, dtype: float64\n",
      "In-market/education\n",
      "False    78.064561\n",
      "True     88.276281\n",
      "Name: Payingprice, dtype: float64\n",
      "In-market/service\n",
      "False    78.287135\n",
      "True     77.445396\n",
      "Name: Payingprice, dtype: float64\n",
      "Long-term interest/art&photography&design\n",
      "False    77.658781\n",
      "True     83.404226\n",
      "Name: Payingprice, dtype: float64\n",
      "Long-term interest/online literature\n",
      "False    79.569602\n",
      "True     72.459795\n",
      "Name: Payingprice, dtype: float64\n",
      "In-market/electronic game\n",
      "False    78.243969\n",
      "True     77.674140\n",
      "Name: Payingprice, dtype: float64\n",
      "Long-term interest/3c\n",
      "False    78.357235\n",
      "True     77.197018\n",
      "Name: Payingprice, dtype: float64\n",
      "In-market/book\n",
      "False    78.236921\n",
      "True     85.389832\n",
      "Name: Payingprice, dtype: float64\n",
      "In-market/medicine\n",
      "False    78.233843\n",
      "True     85.136249\n",
      "Name: Payingprice, dtype: float64\n",
      "In-market/food&drink\n",
      "False    78.231978\n",
      "True     85.601764\n",
      "Name: Payingprice, dtype: float64\n",
      "Long-term interest/culture\n",
      "False    78.236510\n",
      "True     82.751211\n",
      "Name: Payingprice, dtype: float64\n",
      "Long-term interest/sex\n",
      "False    78.243696\n",
      "Name: Payingprice, dtype: float64\n",
      "Demographic/gender/male\n",
      "False    80.306928\n",
      "True     75.790877\n",
      "Name: Payingprice, dtype: float64\n",
      "Demographic/gender/famale\n",
      "False    78.931379\n",
      "True     75.803585\n",
      "Name: Payingprice, dtype: float64\n"
     ]
    }
   ],
   "source": [
    "for key in tag_dict:\n",
    "    temp_df = imp.groupby(tag_dict[key])\n",
    "    print(temp_df['Payingprice'].mean())"
   ]
  },
  {
   "cell_type": "code",
   "execution_count": 5,
   "metadata": {},
   "outputs": [
    {
     "name": "stdout",
     "output_type": "stream",
     "text": [
      "Label encoding categorical features...\n"
     ]
    }
   ],
   "source": [
    "# label encoding\n",
    "print(\"Label encoding categorical features...\")\n",
    "label_encoders = {}\n",
    "imp = imp.drop(columns=['BidID'], axis=1)\n",
    "categorical_features = ['Region', 'City', 'Adslotvisibility', 'Adslotformat', 'CreativeID', 'AdvertiserID', 'Adexchange']\n",
    "for col in categorical_features:\n",
    "    le = LabelEncoder()\n",
    "    imp[col] = le.fit_transform(imp[col])\n",
    "    label_encoders[col] = le\n",
    "\n",
    "boolean_features = [col for col in imp.columns if imp[col].dtype == 'bool']\n",
    "imp[boolean_features] = imp[boolean_features].astype(int)"
   ]
  },
  {
   "cell_type": "code",
   "execution_count": 6,
   "metadata": {},
   "outputs": [
    {
     "data": {
      "text/plain": [
       "Index(['Region', 'City', 'Adexchange', 'Adslotwidth', 'Adslotheight',\n",
       "       'Adslotvisibility', 'Adslotformat', 'CreativeID', 'Payingprice',\n",
       "       'AdvertiserID', 'Long-term interest/news',\n",
       "       'Long-term interest/eduation', 'Long-term interest/automobile',\n",
       "       'Long-term interest/real estate', 'Long-term interest/IT',\n",
       "       'Long-term interest/electronic game', 'Long-term interest/fashion',\n",
       "       'Long-term interest/entertainment', 'Long-term interest/luxury',\n",
       "       'Long-term interest/home and lifestyle', 'Long-term interest/health',\n",
       "       'Long-term interest/food', 'Long-term interest/divine',\n",
       "       'Long-term interest/motherhood&parenting', 'Long-term interest/sports',\n",
       "       'Long-term interest/travel&outdoors', 'Long-term interest/social',\n",
       "       'Demographic/gender/male', 'Demographic/gender/famale',\n",
       "       'In-market/3c product', 'In-market/appliances',\n",
       "       'In-market/clothing、shoes&bags', 'In-market/Beauty& Personal Care',\n",
       "       'In-market/household&home improvement', 'In-market/infant&mom products',\n",
       "       'In-market/sports item', 'In-market/outdoor',\n",
       "       'In-market/health care products', 'In-market/luxury',\n",
       "       'In-market/real estate', 'In-market/automobile', 'In-market/finance',\n",
       "       'In-market/travel', 'In-market/education', 'In-market/service',\n",
       "       'Long-term interest/art&photography&design',\n",
       "       'Long-term interest/online literature', 'In-market/electronic game',\n",
       "       'Long-term interest/3c', 'In-market/book', 'In-market/medicine',\n",
       "       'In-market/food&drink', 'Long-term interest/culture',\n",
       "       'Long-term interest/sex'],\n",
       "      dtype='object')"
      ]
     },
     "execution_count": 6,
     "metadata": {},
     "output_type": "execute_result"
    }
   ],
   "source": [
    "imp.columns"
   ]
  },
  {
   "cell_type": "code",
   "execution_count": 7,
   "metadata": {},
   "outputs": [
    {
     "name": "stderr",
     "output_type": "stream",
     "text": [
      "/Users/utkarshgupta/miniforge3/envs/adobe_devcraft/lib/python3.11/site-packages/xgboost/sklearn.py:1395: UserWarning: `use_label_encoder` is deprecated in 1.7.0.\n",
      "  warnings.warn(\"`use_label_encoder` is deprecated in 1.7.0.\")\n"
     ]
    },
    {
     "name": "stdout",
     "output_type": "stream",
     "text": [
      "[0]\tvalidation_0-mlogloss:4.32836\n",
      "[1]\tvalidation_0-mlogloss:4.20235\n",
      "[2]\tvalidation_0-mlogloss:4.11586\n",
      "[3]\tvalidation_0-mlogloss:4.04858\n",
      "[4]\tvalidation_0-mlogloss:3.99299\n",
      "[5]\tvalidation_0-mlogloss:3.94537\n",
      "[6]\tvalidation_0-mlogloss:3.90382\n",
      "[7]\tvalidation_0-mlogloss:3.86747\n",
      "[8]\tvalidation_0-mlogloss:3.83505\n",
      "[9]\tvalidation_0-mlogloss:3.80570\n",
      "[10]\tvalidation_0-mlogloss:3.77935\n",
      "[11]\tvalidation_0-mlogloss:3.75538\n",
      "[12]\tvalidation_0-mlogloss:3.73347\n",
      "[13]\tvalidation_0-mlogloss:3.71343\n",
      "[14]\tvalidation_0-mlogloss:3.69497\n",
      "[15]\tvalidation_0-mlogloss:3.67794\n",
      "[16]\tvalidation_0-mlogloss:3.66208\n",
      "[17]\tvalidation_0-mlogloss:3.64737\n",
      "[18]\tvalidation_0-mlogloss:3.63341\n",
      "[19]\tvalidation_0-mlogloss:3.62047\n",
      "[20]\tvalidation_0-mlogloss:3.60863\n",
      "[21]\tvalidation_0-mlogloss:3.59744\n",
      "[22]\tvalidation_0-mlogloss:3.58703\n",
      "[23]\tvalidation_0-mlogloss:3.57724\n",
      "[24]\tvalidation_0-mlogloss:3.56813\n",
      "[25]\tvalidation_0-mlogloss:3.55946\n",
      "[26]\tvalidation_0-mlogloss:3.55135\n",
      "[27]\tvalidation_0-mlogloss:3.54377\n",
      "[28]\tvalidation_0-mlogloss:3.53646\n",
      "[29]\tvalidation_0-mlogloss:3.52953\n"
     ]
    },
    {
     "data": {
      "text/html": [
       "<style>#sk-container-id-1 {color: black;}#sk-container-id-1 pre{padding: 0;}#sk-container-id-1 div.sk-toggleable {background-color: white;}#sk-container-id-1 label.sk-toggleable__label {cursor: pointer;display: block;width: 100%;margin-bottom: 0;padding: 0.3em;box-sizing: border-box;text-align: center;}#sk-container-id-1 label.sk-toggleable__label-arrow:before {content: \"▸\";float: left;margin-right: 0.25em;color: #696969;}#sk-container-id-1 label.sk-toggleable__label-arrow:hover:before {color: black;}#sk-container-id-1 div.sk-estimator:hover label.sk-toggleable__label-arrow:before {color: black;}#sk-container-id-1 div.sk-toggleable__content {max-height: 0;max-width: 0;overflow: hidden;text-align: left;background-color: #f0f8ff;}#sk-container-id-1 div.sk-toggleable__content pre {margin: 0.2em;color: black;border-radius: 0.25em;background-color: #f0f8ff;}#sk-container-id-1 input.sk-toggleable__control:checked~div.sk-toggleable__content {max-height: 200px;max-width: 100%;overflow: auto;}#sk-container-id-1 input.sk-toggleable__control:checked~label.sk-toggleable__label-arrow:before {content: \"▾\";}#sk-container-id-1 div.sk-estimator input.sk-toggleable__control:checked~label.sk-toggleable__label {background-color: #d4ebff;}#sk-container-id-1 div.sk-label input.sk-toggleable__control:checked~label.sk-toggleable__label {background-color: #d4ebff;}#sk-container-id-1 input.sk-hidden--visually {border: 0;clip: rect(1px 1px 1px 1px);clip: rect(1px, 1px, 1px, 1px);height: 1px;margin: -1px;overflow: hidden;padding: 0;position: absolute;width: 1px;}#sk-container-id-1 div.sk-estimator {font-family: monospace;background-color: #f0f8ff;border: 1px dotted black;border-radius: 0.25em;box-sizing: border-box;margin-bottom: 0.5em;}#sk-container-id-1 div.sk-estimator:hover {background-color: #d4ebff;}#sk-container-id-1 div.sk-parallel-item::after {content: \"\";width: 100%;border-bottom: 1px solid gray;flex-grow: 1;}#sk-container-id-1 div.sk-label:hover label.sk-toggleable__label {background-color: #d4ebff;}#sk-container-id-1 div.sk-serial::before {content: \"\";position: absolute;border-left: 1px solid gray;box-sizing: border-box;top: 0;bottom: 0;left: 50%;z-index: 0;}#sk-container-id-1 div.sk-serial {display: flex;flex-direction: column;align-items: center;background-color: white;padding-right: 0.2em;padding-left: 0.2em;position: relative;}#sk-container-id-1 div.sk-item {position: relative;z-index: 1;}#sk-container-id-1 div.sk-parallel {display: flex;align-items: stretch;justify-content: center;background-color: white;position: relative;}#sk-container-id-1 div.sk-item::before, #sk-container-id-1 div.sk-parallel-item::before {content: \"\";position: absolute;border-left: 1px solid gray;box-sizing: border-box;top: 0;bottom: 0;left: 50%;z-index: -1;}#sk-container-id-1 div.sk-parallel-item {display: flex;flex-direction: column;z-index: 1;position: relative;background-color: white;}#sk-container-id-1 div.sk-parallel-item:first-child::after {align-self: flex-end;width: 50%;}#sk-container-id-1 div.sk-parallel-item:last-child::after {align-self: flex-start;width: 50%;}#sk-container-id-1 div.sk-parallel-item:only-child::after {width: 0;}#sk-container-id-1 div.sk-dashed-wrapped {border: 1px dashed gray;margin: 0 0.4em 0.5em 0.4em;box-sizing: border-box;padding-bottom: 0.4em;background-color: white;}#sk-container-id-1 div.sk-label label {font-family: monospace;font-weight: bold;display: inline-block;line-height: 1.2em;}#sk-container-id-1 div.sk-label-container {text-align: center;}#sk-container-id-1 div.sk-container {/* jupyter's `normalize.less` sets `[hidden] { display: none; }` but bootstrap.min.css set `[hidden] { display: none !important; }` so we also need the `!important` here to be able to override the default hidden behavior on the sphinx rendered scikit-learn.org. See: https://github.com/scikit-learn/scikit-learn/issues/21755 */display: inline-block !important;position: relative;}#sk-container-id-1 div.sk-text-repr-fallback {display: none;}</style><div id=\"sk-container-id-1\" class=\"sk-top-container\"><div class=\"sk-text-repr-fallback\"><pre>XGBClassifier(base_score=None, booster=None, callbacks=None,\n",
       "              colsample_bylevel=None, colsample_bynode=None,\n",
       "              colsample_bytree=None, early_stopping_rounds=5,\n",
       "              enable_categorical=False, eval_metric=None, feature_types=None,\n",
       "              gamma=None, gpu_id=None, grow_policy=None, importance_type=None,\n",
       "              interaction_constraints=None, learning_rate=0.08, max_bin=None,\n",
       "              max_cat_threshold=None, max_cat_to_onehot=None,\n",
       "              max_delta_step=None, max_depth=6, max_leaves=None,\n",
       "              min_child_weight=None, missing=nan, monotone_constraints=None,\n",
       "              n_estimators=30, n_jobs=None, num_parallel_tree=None,\n",
       "              objective=&#x27;multi:softprob&#x27;, predictor=None, ...)</pre><b>In a Jupyter environment, please rerun this cell to show the HTML representation or trust the notebook. <br />On GitHub, the HTML representation is unable to render, please try loading this page with nbviewer.org.</b></div><div class=\"sk-container\" hidden><div class=\"sk-item\"><div class=\"sk-estimator sk-toggleable\"><input class=\"sk-toggleable__control sk-hidden--visually\" id=\"sk-estimator-id-1\" type=\"checkbox\" checked><label for=\"sk-estimator-id-1\" class=\"sk-toggleable__label sk-toggleable__label-arrow\">XGBClassifier</label><div class=\"sk-toggleable__content\"><pre>XGBClassifier(base_score=None, booster=None, callbacks=None,\n",
       "              colsample_bylevel=None, colsample_bynode=None,\n",
       "              colsample_bytree=None, early_stopping_rounds=5,\n",
       "              enable_categorical=False, eval_metric=None, feature_types=None,\n",
       "              gamma=None, gpu_id=None, grow_policy=None, importance_type=None,\n",
       "              interaction_constraints=None, learning_rate=0.08, max_bin=None,\n",
       "              max_cat_threshold=None, max_cat_to_onehot=None,\n",
       "              max_delta_step=None, max_depth=6, max_leaves=None,\n",
       "              min_child_weight=None, missing=nan, monotone_constraints=None,\n",
       "              n_estimators=30, n_jobs=None, num_parallel_tree=None,\n",
       "              objective=&#x27;multi:softprob&#x27;, predictor=None, ...)</pre></div></div></div></div></div>"
      ],
      "text/plain": [
       "XGBClassifier(base_score=None, booster=None, callbacks=None,\n",
       "              colsample_bylevel=None, colsample_bynode=None,\n",
       "              colsample_bytree=None, early_stopping_rounds=5,\n",
       "              enable_categorical=False, eval_metric=None, feature_types=None,\n",
       "              gamma=None, gpu_id=None, grow_policy=None, importance_type=None,\n",
       "              interaction_constraints=None, learning_rate=0.08, max_bin=None,\n",
       "              max_cat_threshold=None, max_cat_to_onehot=None,\n",
       "              max_delta_step=None, max_depth=6, max_leaves=None,\n",
       "              min_child_weight=None, missing=nan, monotone_constraints=None,\n",
       "              n_estimators=30, n_jobs=None, num_parallel_tree=None,\n",
       "              objective='multi:softprob', predictor=None, ...)"
      ]
     },
     "execution_count": 7,
     "metadata": {},
     "output_type": "execute_result"
    }
   ],
   "source": [
    "from sklearn.metrics import mean_squared_error, r2_score\n",
    "X = imp.drop(columns=['Payingprice'], axis=1)\n",
    "y = imp['Payingprice']\n",
    "X_train, X_test, y_train, y_test = train_test_split(X, y, test_size=0.1)\n",
    "price_model = xgb.XGBClassifier(objective='reg:squarederror', use_label_encoder=False, n_estimators=30, max_depth=6, learning_rate=0.08, early_stopping_rounds=5)\n",
    "price_model.fit(X_train, y_train, eval_set=[(X_test, y_test)], verbose=True)"
   ]
  },
  {
   "cell_type": "code",
   "execution_count": 8,
   "metadata": {},
   "outputs": [
    {
     "name": "stdout",
     "output_type": "stream",
     "text": [
      "Mean Squared Error: 4637.961345600284\n",
      "R-squared: -0.29701351899306316\n",
      "[ 49  85  30  44  73  70  85  80 127  89  44  73  16  20  89  47  70  50\n",
      "  84  70] \n",
      " [112, 120, 50, 44, 73, 80, 65, 80, 144, 192, 186, 84, 16, 20, 119, 240, 20, 50, 84, 70]\n"
     ]
    }
   ],
   "source": [
    "y_pred = price_model.predict(X_test)\n",
    "\n",
    "mse = mean_squared_error(y_test, y_pred)\n",
    "r2 = r2_score(y_test, y_pred)\n",
    "\n",
    "print(\"Mean Squared Error:\", mse)\n",
    "print(\"R-squared:\", r2)\n",
    "\n",
    "test = pd.concat([X_test, y_test], axis=1)\n",
    "sample = test.sample(20)\n",
    "print(price_model.predict(sample.drop(columns=['Payingprice'], axis=1)), '\\n', list(sample['Payingprice']))\n"
   ]
  },
  {
   "cell_type": "code",
   "execution_count": null,
   "metadata": {},
   "outputs": [],
   "source": []
  }
 ],
 "metadata": {
  "kernelspec": {
   "display_name": "adobe_devcraft",
   "language": "python",
   "name": "python3"
  },
  "language_info": {
   "codemirror_mode": {
    "name": "ipython",
    "version": 3
   },
   "file_extension": ".py",
   "mimetype": "text/x-python",
   "name": "python",
   "nbconvert_exporter": "python",
   "pygments_lexer": "ipython3",
   "version": "3.11.11"
  }
 },
 "nbformat": 4,
 "nbformat_minor": 2
}
