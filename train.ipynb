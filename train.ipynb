{
 "cells": [
  {
   "cell_type": "code",
   "execution_count": 1,
   "metadata": {},
   "outputs": [
    {
     "name": "stdout",
     "output_type": "stream",
     "text": [
      "Key 16751 not in column \n",
      "Attribute : Long-term interest/sex\n",
      "\n",
      "imp_train shape: (90753, 53)\n",
      "imp_val shape: (1724322, 53)\n",
      "clk_train shape: (90753,)\n",
      "clk_val shape: (1724322,)\n",
      "conv_train shape: (90753,)\n",
      "conv_val shape: (1724322,)\n"
     ]
    }
   ],
   "source": [
    "import torch\n",
    "from torch.utils.data import DataLoader\n",
    "from dataset import RTB\n",
    "import torch.nn as nn\n",
    "import torch.nn.functional as F\n",
    "from model import ProbabilityANN\n",
    "import torch.optim as optim\n",
    "from tqdm import tqdm\n",
    "import os\n",
    "\n",
    "imp_file_path = \"Adobe_dataset/imp.06.txt\"\n",
    "clk_file_path = \"Adobe_dataset/clk.06.txt\"\n",
    "conv_file_path = \"Adobe_dataset/conv.06.txt\"\n",
    "\n",
    "train_dataset = RTB(imp_file_path,clk_file_path,conv_file_path)"
   ]
  },
  {
   "cell_type": "code",
   "execution_count": null,
   "metadata": {},
   "outputs": [],
   "source": [
    "from model import ProbabilityANN\n",
    "from torchvision.ops.focal_loss import sigmoid_focal_loss\n",
    "\n",
    "device = \"cuda\" if torch.cuda.is_available() else \"cpu\"\n",
    "\n",
    "batch_size = 10000\n",
    "train_loader = DataLoader(train_dataset, batch_size=batch_size, shuffle=True)\n",
    "\n",
    "model = ProbabilityANN().to(device)\n",
    "\n",
    "weights_folder = f\"weights\"\n",
    "os.makedirs(weights_folder, exist_ok=True)\n",
    "\n",
    "optimizer = optim.Adam(model.parameters(), lr=0.001)\n",
    "\n",
    "epochs = 50"
   ]
  },
  {
   "cell_type": "code",
   "execution_count": null,
   "metadata": {},
   "outputs": [],
   "source": [
    "print(len(train_loader))"
   ]
  },
  {
   "cell_type": "code",
   "execution_count": null,
   "metadata": {},
   "outputs": [],
   "source": [
    "for epoch in tqdm(range(epochs), desc=\"Epoch : \"):\n",
    "    \n",
    "    running_loss = 0\n",
    "    progress_bar = tqdm(total=len(train_loader), desc=f\"Epoch {epoch+1}/{epochs}\", position=0, leave=True)\n",
    "    \n",
    "    for i, data in enumerate(train_loader, 0):\n",
    "        \n",
    "        inputs, clk_label, conv_label = data[0].to(device), data[1].to(device), data[2].to(device)\n",
    "        optimizer.zero_grad()\n",
    "        outputs = model(inputs)\n",
    "       \n",
    "        clk_prob , conv_prob = outputs[:,0] , outputs[:,1]\n",
    "        \n",
    "        loss1 = sigmoid_focal_loss(clk_prob, clk_label, alpha=0.9993, gamma=2, reduction=\"mean\")\n",
    "        loss2 = sigmoid_focal_loss(conv_prob, conv_label, alpha=0.9996, gamma=2, reduction=\"mean\")\n",
    "\n",
    "        loss = loss1 + loss2\n",
    "        \n",
    "        loss.backward()\n",
    "        optimizer.step()\n",
    "        \n",
    "        running_loss += loss\n",
    "        \n",
    "        progress_bar.set_postfix(running_loss=running_loss / (i+1))\n",
    "        progress_bar.update(1)\n",
    "    \n",
    "        # if(i % ((len(train_dataset)//batch_size)//10) == 0):\n",
    "        #     print(f\"Batch {i+1} | Epoch Loss {running_loss} | Iteration Loss {loss.item()}\")\n",
    "        \n",
    "        # if(i % ((len(train_dataset)//batch_size)//5) == 0):\n",
    "        #     weights_file_path = f\"{weights_folder}/Epoch_{epoch+1}_Iteration_{i}_loss_{loss}.pt\"\n",
    "        #     torch.save(model.state_dict(), weights_file_path)\n",
    "        \n",
    "        # iteration_tqdm.set_postfix(loss=loss.item())\n",
    "    \n",
    "    progress_bar.close()    \n",
    "    \n",
    "    print(f\"Epoch {epoch+1} | Loss {running_loss} \")\n",
    "    weights_file_path = f\"{weights_folder}/Epoch_{epoch+1}_Loss_{running_loss}.pt\"\n",
    "    # torch.save(model.state_dict(), weights_file_path)\n",
    "    \n",
    "    with torch.no_grad():\n",
    "        "
   ]
  },
  {
   "cell_type": "code",
   "execution_count": null,
   "metadata": {},
   "outputs": [],
   "source": []
  }
 ],
 "metadata": {
  "kernelspec": {
   "display_name": "hugging_face",
   "language": "python",
   "name": "python3"
  },
  "language_info": {
   "codemirror_mode": {
    "name": "ipython",
    "version": 3
   },
   "file_extension": ".py",
   "mimetype": "text/x-python",
   "name": "python",
   "nbconvert_exporter": "python",
   "pygments_lexer": "ipython3",
   "version": "3.8.20"
  }
 },
 "nbformat": 4,
 "nbformat_minor": 2
}
