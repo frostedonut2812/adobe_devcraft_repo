{
 "cells": [
  {
   "cell_type": "code",
   "execution_count": null,
   "metadata": {},
   "outputs": [],
   "source": [
    "import torch\n",
    "from torch.utils.data import DataLoader\n",
    "from dataset import RTB\n",
    "import torch.nn as nn\n",
    "import torch.nn.functional as F\n",
    "from model import ProbabilityANN\n",
    "import torch.optim as optim\n",
    "from tqdm import tqdm\n",
    "import os\n",
    "\n",
    "imp_file_path = \"Adobe_dataset/imp.06.txt\"\n",
    "clk_file_path = \"Adobe_dataset/clk.06.txt\"\n",
    "conv_file_path = \"Adobe_dataset/conv.06.txt\"\n",
    "\n",
    "train_dataset = RTB(imp_file_path,clk_file_path,conv_file_path)"
   ]
  },
  {
   "cell_type": "code",
   "execution_count": 5,
   "metadata": {},
   "outputs": [],
   "source": [
    "from model import ProbabilityANN\n",
    "from torchvision.ops.focal_loss import sigmoid_focal_loss\n",
    "\n",
    "batch_size = 1000\n",
    "train_loader = DataLoader(train_dataset, batch_size=batch_size, shuffle=True)\n",
    "\n",
    "model = ProbabilityANN()\n",
    "\n",
    "weights_folder = f\"weights\"\n",
    "os.makedirs(weights_folder, exist_ok=True)\n",
    "\n",
    "optimizer = optim.Adam(model.parameters(), lr=0.001)\n",
    "\n",
    "epochs = 5 "
   ]
  },
  {
   "cell_type": "code",
   "execution_count": null,
   "metadata": {},
   "outputs": [],
   "source": [
    "print(len(train_loader))"
   ]
  },
  {
   "cell_type": "code",
   "execution_count": 8,
   "metadata": {},
   "outputs": [
    {
     "name": "stderr",
     "output_type": "stream",
     "text": [
      "Epoch 1/5:  78%|███████▊  | 1419/1816 [00:23<00:06, 61.68it/s, running_loss=tensor(0.0008, grad_fn=<DivBackward0>)]\n",
      "Epoch :   0%|          | 0/5 [00:22<?, ?it/s]00:01, 65.32it/s, running_loss=tensor(0.0004, grad_fn=<DivBackward0>)]\n"
     ]
    },
    {
     "ename": "KeyboardInterrupt",
     "evalue": "",
     "output_type": "error",
     "traceback": [
      "\u001b[0;31m---------------------------------------------------------------------------\u001b[0m",
      "\u001b[0;31mKeyboardInterrupt\u001b[0m                         Traceback (most recent call last)",
      "\u001b[0;32m/tmp/ipykernel_53699/384994160.py\u001b[0m in \u001b[0;36m<module>\u001b[0;34m\u001b[0m\n\u001b[1;32m     16\u001b[0m         \u001b[0mloss\u001b[0m \u001b[0;34m=\u001b[0m \u001b[0mloss1\u001b[0m \u001b[0;34m+\u001b[0m \u001b[0mloss2\u001b[0m\u001b[0;34m\u001b[0m\u001b[0;34m\u001b[0m\u001b[0m\n\u001b[1;32m     17\u001b[0m \u001b[0;34m\u001b[0m\u001b[0m\n\u001b[0;32m---> 18\u001b[0;31m         \u001b[0mloss\u001b[0m\u001b[0;34m.\u001b[0m\u001b[0mbackward\u001b[0m\u001b[0;34m(\u001b[0m\u001b[0;34m)\u001b[0m\u001b[0;34m\u001b[0m\u001b[0;34m\u001b[0m\u001b[0m\n\u001b[0m\u001b[1;32m     19\u001b[0m         \u001b[0moptimizer\u001b[0m\u001b[0;34m.\u001b[0m\u001b[0mstep\u001b[0m\u001b[0;34m(\u001b[0m\u001b[0;34m)\u001b[0m\u001b[0;34m\u001b[0m\u001b[0;34m\u001b[0m\u001b[0m\n\u001b[1;32m     20\u001b[0m \u001b[0;34m\u001b[0m\u001b[0m\n",
      "\u001b[0;32m~/.conda/envs/trauma/lib/python3.7/site-packages/torch/_tensor.py\u001b[0m in \u001b[0;36mbackward\u001b[0;34m(self, gradient, retain_graph, create_graph, inputs)\u001b[0m\n\u001b[1;32m    253\u001b[0m                 \u001b[0mcreate_graph\u001b[0m\u001b[0;34m=\u001b[0m\u001b[0mcreate_graph\u001b[0m\u001b[0;34m,\u001b[0m\u001b[0;34m\u001b[0m\u001b[0;34m\u001b[0m\u001b[0m\n\u001b[1;32m    254\u001b[0m                 inputs=inputs)\n\u001b[0;32m--> 255\u001b[0;31m         \u001b[0mtorch\u001b[0m\u001b[0;34m.\u001b[0m\u001b[0mautograd\u001b[0m\u001b[0;34m.\u001b[0m\u001b[0mbackward\u001b[0m\u001b[0;34m(\u001b[0m\u001b[0mself\u001b[0m\u001b[0;34m,\u001b[0m \u001b[0mgradient\u001b[0m\u001b[0;34m,\u001b[0m \u001b[0mretain_graph\u001b[0m\u001b[0;34m,\u001b[0m \u001b[0mcreate_graph\u001b[0m\u001b[0;34m,\u001b[0m \u001b[0minputs\u001b[0m\u001b[0;34m=\u001b[0m\u001b[0minputs\u001b[0m\u001b[0;34m)\u001b[0m\u001b[0;34m\u001b[0m\u001b[0;34m\u001b[0m\u001b[0m\n\u001b[0m\u001b[1;32m    256\u001b[0m \u001b[0;34m\u001b[0m\u001b[0m\n\u001b[1;32m    257\u001b[0m     \u001b[0;32mdef\u001b[0m \u001b[0mregister_hook\u001b[0m\u001b[0;34m(\u001b[0m\u001b[0mself\u001b[0m\u001b[0;34m,\u001b[0m \u001b[0mhook\u001b[0m\u001b[0;34m)\u001b[0m\u001b[0;34m:\u001b[0m\u001b[0;34m\u001b[0m\u001b[0;34m\u001b[0m\u001b[0m\n",
      "\u001b[0;32m~/.conda/envs/trauma/lib/python3.7/site-packages/torch/autograd/__init__.py\u001b[0m in \u001b[0;36mbackward\u001b[0;34m(tensors, grad_tensors, retain_graph, create_graph, grad_variables, inputs)\u001b[0m\n\u001b[1;32m    147\u001b[0m     Variable._execution_engine.run_backward(\n\u001b[1;32m    148\u001b[0m         \u001b[0mtensors\u001b[0m\u001b[0;34m,\u001b[0m \u001b[0mgrad_tensors_\u001b[0m\u001b[0;34m,\u001b[0m \u001b[0mretain_graph\u001b[0m\u001b[0;34m,\u001b[0m \u001b[0mcreate_graph\u001b[0m\u001b[0;34m,\u001b[0m \u001b[0minputs\u001b[0m\u001b[0;34m,\u001b[0m\u001b[0;34m\u001b[0m\u001b[0;34m\u001b[0m\u001b[0m\n\u001b[0;32m--> 149\u001b[0;31m         allow_unreachable=True, accumulate_grad=True)  # allow_unreachable flag\n\u001b[0m\u001b[1;32m    150\u001b[0m \u001b[0;34m\u001b[0m\u001b[0m\n\u001b[1;32m    151\u001b[0m \u001b[0;34m\u001b[0m\u001b[0m\n",
      "\u001b[0;31mKeyboardInterrupt\u001b[0m: "
     ]
    }
   ],
   "source": [
    "for epoch in tqdm(range(epochs), desc=\"Epoch : \"):\n",
    "    \n",
    "    running_loss = 0\n",
    "    progress_bar = tqdm(total=len(train_loader), desc=f\"Epoch {epoch+1}/{epochs}\", position=0, leave=True)\n",
    "    \n",
    "    for i, data in enumerate(train_loader, 0):\n",
    "                \n",
    "        inputs, clk_label, conv_label = data[0], data[1], data[2]\n",
    "        optimizer.zero_grad()\n",
    "        outputs = model(inputs)\n",
    "       \n",
    "        clk_prob , conv_prob = outputs[:,0] , outputs[:,1]\n",
    "        \n",
    "        loss1 = sigmoid_focal_loss(clk_prob, clk_label, alpha=0.9993, gamma=2, reduction=\"mean\")\n",
    "        loss2 = sigmoid_focal_loss(conv_prob, conv_label, alpha=0.9996, gamma=2, reduction=\"mean\")\n",
    "\n",
    "        loss = loss1 + loss2\n",
    "        \n",
    "        loss.backward()\n",
    "        optimizer.step()\n",
    "        \n",
    "        running_loss += loss\n",
    "        \n",
    "        progress_bar.set_postfix(running_loss=running_loss / (i+1))\n",
    "        progress_bar.update(1)\n",
    "    \n",
    "        # if(i % ((len(train_dataset)//batch_size)//10) == 0):\n",
    "        #     print(f\"Batch {i+1} | Epoch Loss {running_loss} | Iteration Loss {loss.item()}\")\n",
    "        \n",
    "        # if(i % ((len(train_dataset)//batch_size)//5) == 0):\n",
    "        #     weights_file_path = f\"{weights_folder}/Epoch_{epoch+1}_Iteration_{i}_loss_{loss}.pt\"\n",
    "        #     torch.save(model.state_dict(), weights_file_path)\n",
    "        \n",
    "        # iteration_tqdm.set_postfix(loss=loss.item())\n",
    "    \n",
    "    progress_bar.close()    \n",
    "    \n",
    "    print(f\"Epoch {epoch+1} | Loss {running_loss} \")\n",
    "    weights_file_path = f\"{weights_folder}/Epoch_{epoch+1}_Loss_{running_loss}.pt\"\n",
    "    # torch.save(model.state_dict(), weights_file_path)"
   ]
  }
 ],
 "metadata": {
  "kernelspec": {
   "display_name": "trauma",
   "language": "python",
   "name": "python3"
  },
  "language_info": {
   "codemirror_mode": {
    "name": "ipython",
    "version": 3
   },
   "file_extension": ".py",
   "mimetype": "text/x-python",
   "name": "python",
   "nbconvert_exporter": "python",
   "pygments_lexer": "ipython3",
   "version": "3.7.12"
  }
 },
 "nbformat": 4,
 "nbformat_minor": 2
}
